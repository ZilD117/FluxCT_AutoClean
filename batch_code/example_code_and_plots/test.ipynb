{
 "cells": [
  {
   "cell_type": "code",
   "execution_count": 1,
   "metadata": {},
   "outputs": [],
   "source": [
    "import numpy as np\n",
    "import pandas as pd"
   ]
  },
  {
   "cell_type": "code",
   "execution_count": 2,
   "metadata": {},
   "outputs": [
    {
     "name": "stdout",
     "output_type": "stream",
     "text": [
      "There are 4 stars in the sample.\n"
     ]
    }
   ],
   "source": [
    "identifiers = pd.read_csv(r'C:\\Users\\User\\Desktop\\FluxCT\\FluxCT_AutoClean\\batch_code\\example_code_and_plots\\test_tic_list.csv') \n",
    "identifiers = list(identifiers['id'])\n",
    "print('There are ' + str(len(identifiers)) + ' stars in the sample.') "
   ]
  },
  {
   "cell_type": "code",
   "execution_count": 146,
   "metadata": {},
   "outputs": [
    {
     "data": {
      "text/plain": [
       "['TIC 25063215', 'TIC 25063281', 'TIC 25063296', 'TIC 25063656']"
      ]
     },
     "execution_count": 146,
     "metadata": {},
     "output_type": "execute_result"
    }
   ],
   "source": [
    "identifiers"
   ]
  },
  {
   "cell_type": "code",
   "execution_count": 3,
   "metadata": {},
   "outputs": [],
   "source": [
    "# Import modules\n",
    "import time \n",
    "import pandas as pd  \n",
    "from lightkurve import search_targetpixelfile\n",
    "from astropy.wcs import WCS\n",
    "import matplotlib.pyplot as plt\n",
    "from astropy.io import fits \n",
    "import numpy as np\n",
    "from astroquery.gaia import Gaia\n",
    "from astropy.coordinates import SkyCoord\n",
    "import astropy.units as u\n",
    "import math\n",
    "from ast import literal_eval\n",
    "import ssl\n",
    "import lightkurve\n",
    "import os\n",
    "\n",
    "try:\n",
    "     _create_unverified_https_context = ssl._create_unverified_context\n",
    "except AttributeError:\n",
    "    # Legacy Python that doesn't verify HTTPS certificates by default,\n",
    "    pass\n",
    "else:\n",
    "    # Handle target environment that doesn't support HTTPS verification,\n",
    "    ssl._create_default_https_context = _create_unverified_https_context\n",
    "\n",
    "# Paths and files \n",
    "code_file_path = r\"C:\\Users\\User\\Desktop\\FluxCT\\FluxCT_AutoClean\\batch_code\\example_code_and_plots/\"\n",
    "plot_path = r\"C:\\Users\\User\\Desktop\\FluxCT\\FluxCT_AutoClean\\batch_code\\example_code_and_plots/\"\n",
    "identifiers = pd.read_csv(code_file_path + 'test_tic_list.csv') # USER INPUT - TESS ID list  \n"
   ]
  },
  {
   "cell_type": "code",
   "execution_count": 4,
   "metadata": {},
   "outputs": [
    {
     "name": "stdout",
     "output_type": "stream",
     "text": [
      "['TIC 25063215', 'TIC 25063281', 'TIC 25063296', 'TIC 25063656']\n",
      "There are 4 stars in the sample.\n"
     ]
    }
   ],
   "source": [
    "identifiers = list(identifiers['id'])\n",
    "print(identifiers)\n",
    "\n",
    "print('There are ' + str(len(identifiers)) + ' stars in the sample.') "
   ]
  },
  {
   "cell_type": "code",
   "execution_count": 5,
   "metadata": {},
   "outputs": [
    {
     "name": "stdout",
     "output_type": "stream",
     "text": [
      "\n",
      "********** TESS 25063656 – Star Number 0 **********\n"
     ]
    },
    {
     "name": "stderr",
     "output_type": "stream",
     "text": [
      "C:\\Users\\User\\AppData\\Local\\Packages\\PythonSoftwareFoundation.Python.3.11_qbz5n2kfra8p0\\LocalCache\\local-packages\\Python311\\site-packages\\lightkurve\\search.py:423: LightkurveWarning: Warning: 35 files available to download. Only the first file has been downloaded. Please use `download_all()` or specify additional criteria (e.g. quarter, campaign, or sector) to limit your search.\n",
      "  warnings.warn(\n"
     ]
    },
    {
     "name": "stdout",
     "output_type": "stream",
     "text": [
      "tpf is  TessTargetPixelFile(TICID: TIC 25063656)\n",
      "pipe line mask array is [[False False False False False False False False False False False]\n",
      " [False False False False False False False False False False False]\n",
      " [False False False False False False False False False False False]\n",
      " [False False False False False False False False False False False]\n",
      " [False False False False False False False False False False False]\n",
      " [False False False False False False False False False False False]\n",
      " [False False False False False False False False False False False]\n",
      " [False False False False False False False False False False False]\n",
      " [False False False False False False False False False False False]\n",
      " [False False False False False False False False False False False]\n",
      " [False False False False False False False False False False False]]\n",
      "INFO: Query finished. [astroquery.utils.tap.core]\n",
      "polygonresults source_id  ra dec phot_g_mean_mag ruwe phot_g_mean_flux\n",
      "          deg deg       mag              electron / s  \n",
      "--------- --- --- --------------- ---- ----------------\n"
     ]
    }
   ],
   "source": [
    "tess_list = []\n",
    "gaia_source_list = []\n",
    "ra_list = []\n",
    "dec_list = []\n",
    "g_mag_list = []\n",
    "ruwe_list = []\n",
    "flux_list = []\n",
    "not_found = []\n",
    "a = 0\n",
    "\n",
    "inputs = \"TIC 25063656\"\n",
    "tess = inputs[4:]\n",
    "print('\\n********** TESS ' + str(tess) + ' – Star Number ' + str(a) + ' **********') \n",
    "tpf = lightkurve.search_tesscut(inputs).download(cutout_size=11)\n",
    "print(\"tpf is \",tpf)\n",
    "tpf_one = tpf[0]\n",
    "tpf_one.to_fits(plot_path + 'tess_' + str(tess) + '_fits.fits',overwrite=True)\n",
    "\n",
    "# Finding tpa\n",
    "array = tpf_one.pipeline_mask \n",
    "print(\"pipe line mask array is\",array)\n",
    "\n",
    "# Finding the count of each pixel in the rows and columns of the mask. \n",
    "row_count = np.count_nonzero(array, axis=1)\n",
    "col_count = np.count_nonzero(array, axis=0) \n",
    "\n",
    "# Columns = col are counting the x coordinate from left to right. \n",
    "# This is the lower limit in pixel number for the left hand side of the array\n",
    "# By adding 1 to the result I am removing the index to 0.\n",
    "count_x = 0\n",
    "if col_count[0] != 0:\n",
    "    count_x = 0\n",
    "else:\n",
    "    for i in range(len(col_count)):\n",
    "        if col_count[i] == 0:\n",
    "            count_x = i\n",
    "        else:\n",
    "            count_x = count_x + 1\n",
    "            break\n",
    "    \n",
    "# Rows are counting the y coordinate from bottom to top.\n",
    "# This is the lower limit in pixel number for the bottom of the array\n",
    "# By adding 1 to the result I am removing the index to 0.\n",
    "count_y = 0\n",
    "if row_count[0] != 0:\n",
    "    count_y = 0\n",
    "else:\n",
    "    for j in range(len(row_count)):\n",
    "        if row_count[j] == 0:\n",
    "            count_y = j \n",
    "        else:\n",
    "            count_y = count_y + 1\n",
    "            break\n",
    "\n",
    "# Finding the top right pixel\n",
    "array_2  = array[np.ix_(~np.all(array == False, axis=1), ~np.all(array == False, axis=0))]\n",
    "tr_y = array_2.shape[0]  \n",
    "tr_x = array_2.shape[1]  \n",
    "\n",
    "# Top left pixel position \n",
    "tl_x = count_x - 0.5\n",
    "tl_y = count_y + tr_y - 1 + 0.5\n",
    "\n",
    "# Bottom right pixel position \n",
    "br_x = count_x + tr_x - 1 + 0.5\n",
    "br_y = count_y - 0.5\n",
    "\n",
    "# Bottom left pixel position\n",
    "# Starts from the first pixel with a non-zero value so only include count_x and count_y \n",
    "bl_x = count_x - 0.5\n",
    "bl_y = count_y - 0.5\n",
    "\n",
    "# Top right pixel position\n",
    "# Already calaculated these so just add the 0.5\n",
    "tr_x = count_x + tr_x - 1 + 0.5\n",
    "tr_y = count_y + tr_y - 1 + 0.5 \n",
    "\n",
    "# Pulling image to plot\n",
    "tpf_data = fits.open(plot_path + 'tess_' + str(tess) + '_fits.fits')\n",
    "image = tpf_data[1].data\n",
    "image = image['FLUX'][0]\n",
    "wcs = WCS(tpf_data[2].header)\n",
    "\n",
    "# Finding the corners of the aperture mask\n",
    "tl = tpf_one.wcs.pixel_to_world(tl_x, tl_y)\n",
    "tr = tpf_one.wcs.pixel_to_world(tr_x, tr_y)\n",
    "bl = tpf_one.wcs.pixel_to_world(bl_x, bl_y)\n",
    "br = tpf_one.wcs.pixel_to_world(br_x, br_y)\n",
    "\n",
    "# Converting the corners of the aperture mask to coordinates for Gaia\n",
    "top_left = wcs.world_to_pixel(tl)\n",
    "top_right = wcs.world_to_pixel(tr)\n",
    "bottom_left = wcs.world_to_pixel(bl)\n",
    "bottom_right = wcs.world_to_pixel(br)\n",
    "\n",
    "# Coordinates to search in Gaia \n",
    "tr_ra = tr.ra.deg\n",
    "tr_dec = tr.dec.deg\n",
    "tl_ra = tl.ra.deg\n",
    "tl_dec = tl.dec.deg\n",
    "br_ra = br.ra.deg\n",
    "br_dec = br.dec.deg\n",
    "bl_ra = bl.ra.deg\n",
    "bl_dec = bl.dec.deg\n",
    "\n",
    "# Creating Gaia call\n",
    "polygon = str(br_ra) + ', ' + str(br_dec) + ', ' + str(bl_ra) + ', ' + str(bl_dec) + ', ' + str(tl_ra) + ', ' + str(tl_dec) + ', ' + str(tr_ra) + ', ' + str(tr_dec)\n",
    "columns = 'source_id, ra, dec, phot_g_mean_mag, ruwe, phot_g_mean_flux'\n",
    "polygon_top10query_base = \"\"\"SELECT\n",
    "{columns}\n",
    "FROM gaiaedr3.gaia_source\n",
    "WHERE 1=CONTAINS(\n",
    "        POINT(ra, dec), \n",
    "        POLYGON({polygon}))\n",
    "\"\"\"\n",
    "\n",
    "# Querying Gaia\n",
    "polygon_top10query = polygon_top10query_base.format(columns=columns, \n",
    "                        polygon=polygon)\n",
    "\n",
    "polygon_top10query_job = Gaia.launch_job_async(polygon_top10query)\n",
    "\n",
    "polygon_top10query_results = polygon_top10query_job.get_results()\n",
    "print(\"polygonresults\",polygon_top10query_results)\n",
    "\n"
   ]
  },
  {
   "cell_type": "code",
   "execution_count": 60,
   "metadata": {},
   "outputs": [
    {
     "data": {
      "text/plain": [
       "array([   0,    1,    2, ..., 1264, 1265, 1266])"
      ]
     },
     "execution_count": 60,
     "metadata": {},
     "output_type": "execute_result"
    }
   ],
   "source": [
    "tpf.cadenceno"
   ]
  },
  {
   "cell_type": "code",
   "execution_count": 8,
   "metadata": {},
   "outputs": [
    {
     "data": {
      "text/latex": [
       "$[[[92.725044,~90.181473,~94.166557,~\\dots,~83.818565,~91.049561,~101.99951],~\n",
       "  [90.733162,~89.006462,~109.51167,~\\dots,~84.270058,~85.130951,~90.332199],~\n",
       "  [102.13493,~88.507439,~98.803932,~\\dots,~87.529991,~88.663872,~88.801231],~\n",
       "  \\dots,~\n",
       "  [83.938438,~85.394852,~90.489578,~\\dots,~108.29802,~93.941399,~94.975021],~\n",
       "  [82.527885,~84.607727,~85.996964,~\\dots,~101.30878,~92.05616,~91.77021],~\n",
       "  [81.927818,~82.480392,~83.530838,~\\dots,~93.52607,~88.825958,~93.916466]]] \\; \\mathrm{\\frac{e^{-}}{s}}$"
      ],
      "text/plain": [
       "<Quantity [[[  92.725044,   90.18147 ,   94.16656 ,   89.58489 ,\n",
       "               85.394554,   84.74539 ,   84.51878 ,   84.18695 ,\n",
       "               83.818565,   91.04956 ,  101.99951 ],\n",
       "            [  90.73316 ,   89.00646 ,  109.511665,   99.14899 ,\n",
       "               87.42157 ,   86.01733 ,   84.79169 ,   84.28774 ,\n",
       "               84.27006 ,   85.13095 ,   90.3322  ],\n",
       "            [ 102.13493 ,   88.50744 ,   98.80393 ,   93.285774,\n",
       "               88.89373 ,   92.40165 ,   89.98473 ,   88.85626 ,\n",
       "               87.52999 ,   88.66387 ,   88.80123 ],\n",
       "            [ 127.68274 ,   90.54535 ,   87.58991 ,   89.058014,\n",
       "               95.20447 ,  124.028076,  112.40412 ,  101.077354,\n",
       "               95.422966,   92.26272 ,   88.1353  ],\n",
       "            [ 104.74072 ,   89.62899 ,   86.82919 ,   90.54025 ,\n",
       "              113.69116 ,  322.1818  ,  268.9381  ,  132.5105  ,\n",
       "              102.22441 ,   92.30645 ,   89.25835 ],\n",
       "            [  87.267494,   86.30775 ,   85.89991 ,   92.87017 ,\n",
       "              127.89538 , 1087.2986  , 1152.1912  ,  250.92978 ,\n",
       "              110.92696 ,   94.03376 ,   90.22009 ],\n",
       "            [  84.57706 ,   84.10204 ,   86.969604,   96.791084,\n",
       "              128.30672 ,  860.3317  ,  953.666   ,  276.72415 ,\n",
       "              123.23126 ,   95.828705,   91.45806 ],\n",
       "            [  83.87483 ,   84.72817 ,   89.18744 ,  102.25086 ,\n",
       "              112.475174,  222.64148 ,  399.34076 ,  187.98341 ,\n",
       "              107.35417 ,   94.55658 ,   91.86699 ],\n",
       "            [  83.93844 ,   85.39485 ,   90.48958 ,  104.79603 ,\n",
       "              101.44637 ,  212.66522 ,  496.9951  ,  207.26428 ,\n",
       "              108.29802 ,   93.9414  ,   94.97502 ],\n",
       "            [  82.527885,   84.60773 ,   85.99696 ,   89.65212 ,\n",
       "               95.33753 ,  120.381645,  187.4732  ,  131.94435 ,\n",
       "              101.30878 ,   92.05616 ,   91.77021 ],\n",
       "            [  81.92782 ,   82.48039 ,   83.53084 ,   86.23727 ,\n",
       "               96.18334 ,  103.23156 ,  101.80556 ,  100.896835,\n",
       "               93.52607 ,   88.82596 ,   93.916466]]] electron / s>"
      ]
     },
     "execution_count": 8,
     "metadata": {},
     "output_type": "execute_result"
    }
   ],
   "source": [
    "tpf_one."
   ]
  },
  {
   "cell_type": "code",
   "execution_count": 18,
   "metadata": {},
   "outputs": [],
   "source": [
    "sr = lightkurve.search_lightcurve(\"TIC 25063656\", author=\"tasoc\",)"
   ]
  },
  {
   "cell_type": "code",
   "execution_count": 21,
   "metadata": {},
   "outputs": [
    {
     "data": {
      "text/html": [
       "SearchResult containing 14 data products.\n",
       "\n",
       "<table id=\"table2193742425296\">\n",
       "<thead><tr><th>#</th><th>mission</th><th>year</th><th>author</th><th>exptime</th><th>target_name</th><th>distance</th></tr></thead>\n",
       "<thead><tr><th></th><th></th><th></th><th></th><th>s</th><th></th><th>arcsec</th></tr></thead>\n",
       "<tr><td>0</td><td>TESS Sector 01</td><td>2018</td><td><a href='https://archive.stsci.edu/hlsp/tasoc'>TASOC</a></td><td>1800</td><td>25063656</td><td>0.0</td></tr>\n",
       "<tr><td>1</td><td>TESS Sector 01</td><td>2018</td><td><a href='https://archive.stsci.edu/hlsp/tasoc'>TASOC</a></td><td>1800</td><td>25063656</td><td>0.0</td></tr>\n",
       "<tr><td>2</td><td>TESS Sector 02</td><td>2018</td><td><a href='https://archive.stsci.edu/hlsp/tasoc'>TASOC</a></td><td>1800</td><td>25063656</td><td>0.0</td></tr>\n",
       "<tr><td>3</td><td>TESS Sector 02</td><td>2018</td><td><a href='https://archive.stsci.edu/hlsp/tasoc'>TASOC</a></td><td>1800</td><td>25063656</td><td>0.0</td></tr>\n",
       "<tr><td>4</td><td>TESS Sector 03</td><td>2018</td><td><a href='https://archive.stsci.edu/hlsp/tasoc'>TASOC</a></td><td>1800</td><td>25063656</td><td>0.0</td></tr>\n",
       "<tr><td>5</td><td>TESS Sector 03</td><td>2018</td><td><a href='https://archive.stsci.edu/hlsp/tasoc'>TASOC</a></td><td>1800</td><td>25063656</td><td>0.0</td></tr>\n",
       "<tr><td>6</td><td>TESS Sector 04</td><td>2018</td><td><a href='https://archive.stsci.edu/hlsp/tasoc'>TASOC</a></td><td>120</td><td>25063656</td><td>0.0</td></tr>\n",
       "<tr><td>7</td><td>TESS Sector 04</td><td>2018</td><td><a href='https://archive.stsci.edu/hlsp/tasoc'>TASOC</a></td><td>1800</td><td>25063656</td><td>0.0</td></tr>\n",
       "<tr><td>8</td><td>TESS Sector 04</td><td>2018</td><td><a href='https://archive.stsci.edu/hlsp/tasoc'>TASOC</a></td><td>1800</td><td>25063656</td><td>0.0</td></tr>\n",
       "<tr><td>9</td><td>TESS Sector 05</td><td>2018</td><td><a href='https://archive.stsci.edu/hlsp/tasoc'>TASOC</a></td><td>120</td><td>25063656</td><td>0.0</td></tr>\n",
       "<tr><td>10</td><td>TESS Sector 05</td><td>2018</td><td><a href='https://archive.stsci.edu/hlsp/tasoc'>TASOC</a></td><td>1800</td><td>25063656</td><td>0.0</td></tr>\n",
       "<tr><td>11</td><td>TESS Sector 05</td><td>2018</td><td><a href='https://archive.stsci.edu/hlsp/tasoc'>TASOC</a></td><td>1800</td><td>25063656</td><td>0.0</td></tr>\n",
       "<tr><td>12</td><td>TESS Sector 06</td><td>2018</td><td><a href='https://archive.stsci.edu/hlsp/tasoc'>TASOC</a></td><td>1800</td><td>25063656</td><td>0.0</td></tr>\n",
       "<tr><td>13</td><td>TESS Sector 06</td><td>2018</td><td><a href='https://archive.stsci.edu/hlsp/tasoc'>TASOC</a></td><td>1800</td><td>25063656</td><td>0.0</td></tr>\n",
       "</table>"
      ],
      "text/plain": [
       "SearchResult containing 14 data products.\n",
       "\n",
       " #     mission     year author exptime target_name distance\n",
       "                                  s                 arcsec \n",
       "--- -------------- ---- ------ ------- ----------- --------\n",
       "  0 TESS Sector 01 2018  TASOC    1800    25063656      0.0\n",
       "  1 TESS Sector 01 2018  TASOC    1800    25063656      0.0\n",
       "  2 TESS Sector 02 2018  TASOC    1800    25063656      0.0\n",
       "  3 TESS Sector 02 2018  TASOC    1800    25063656      0.0\n",
       "  4 TESS Sector 03 2018  TASOC    1800    25063656      0.0\n",
       "  5 TESS Sector 03 2018  TASOC    1800    25063656      0.0\n",
       "  6 TESS Sector 04 2018  TASOC     120    25063656      0.0\n",
       "  7 TESS Sector 04 2018  TASOC    1800    25063656      0.0\n",
       "  8 TESS Sector 04 2018  TASOC    1800    25063656      0.0\n",
       "  9 TESS Sector 05 2018  TASOC     120    25063656      0.0\n",
       " 10 TESS Sector 05 2018  TASOC    1800    25063656      0.0\n",
       " 11 TESS Sector 05 2018  TASOC    1800    25063656      0.0\n",
       " 12 TESS Sector 06 2018  TASOC    1800    25063656      0.0\n",
       " 13 TESS Sector 06 2018  TASOC    1800    25063656      0.0"
      ]
     },
     "execution_count": 21,
     "metadata": {},
     "output_type": "execute_result"
    }
   ],
   "source": [
    "sr"
   ]
  },
  {
   "cell_type": "code",
   "execution_count": 73,
   "metadata": {},
   "outputs": [],
   "source": [
    "sr1 = sr[::2]  # each target has both a \"CBV\" and \"ENS\" light curve for each sector. \n",
    "                       # The TPF and aperture are the same for both, so you only need one.\n",
    "\n",
    "sr2 = sr1.download_all(download_dir=r\"C:\\Users\\User\\Desktop\\FluxCT\\FluxCT_AutoClean\\TASOC2\\.\") # Defaults to ~/.lightkurve-cache, but I prefer choosing the directory."
   ]
  },
  {
   "cell_type": "code",
   "execution_count": 16,
   "metadata": {},
   "outputs": [],
   "source": [
    "tess_test = fits.open(r\"C:\\Users\\User\\Desktop\\FluxCT\\FluxCT_AutoClean\\TASOC2\\mastDownload\\HLSP\\hlsp_tasoc_tess_ffi_tic00025063656-s0001-cam4-ccd1-c1800_tess_v05\\hlsp_tasoc_tess_ffi_tic00025063656-s0001-cam4-ccd1-c1800_tess_v05_cbv-lc.fits\")"
   ]
  },
  {
   "cell_type": "code",
   "execution_count": 24,
   "metadata": {},
   "outputs": [
    {
     "data": {
      "text/plain": [
       "array([   0,    1,    2, ..., 1264, 1265, 1266])"
      ]
     },
     "execution_count": 24,
     "metadata": {},
     "output_type": "execute_result"
    }
   ],
   "source": [
    "tpf.cadenceno"
   ]
  },
  {
   "cell_type": "code",
   "execution_count": 17,
   "metadata": {},
   "outputs": [
    {
     "data": {
      "text/plain": [
       "array([4697, 4698, 4699, ..., 6031, 6032, 6033], dtype='>i4')"
      ]
     },
     "execution_count": 17,
     "metadata": {},
     "output_type": "execute_result"
    }
   ],
   "source": [
    "tess_test[1].data['CADENCENO']"
   ]
  },
  {
   "cell_type": "markdown",
   "metadata": {},
   "source": []
  },
  {
   "cell_type": "code",
   "execution_count": 22,
   "metadata": {},
   "outputs": [
    {
     "data": {
      "text/plain": [
       "1282"
      ]
     },
     "execution_count": 22,
     "metadata": {},
     "output_type": "execute_result"
    }
   ],
   "source": [
    "len(tess_test[1].data['CADENCENO'])\n"
   ]
  },
  {
   "cell_type": "code",
   "execution_count": 76,
   "metadata": {},
   "outputs": [],
   "source": [
    "tasoc_ap = tess_test[3].data\n",
    "ap = (tasoc_ap & 2).astype(bool)"
   ]
  },
  {
   "cell_type": "code",
   "execution_count": null,
   "metadata": {},
   "outputs": [],
   "source": [
    "r, r2, r3, r4, r5, r6, r7 = do_calculation(kic)"
   ]
  },
  {
   "cell_type": "code",
   "execution_count": 114,
   "metadata": {},
   "outputs": [
    {
     "data": {
      "text/plain": [
       "[<astropy.io.fits.hdu.image.PrimaryHDU object at 0x000001B4275B3310>, <astropy.io.fits.hdu.table.BinTableHDU object at 0x000001B4275C5210>, <astropy.io.fits.hdu.image.ImageHDU object at 0x000001B427626650>, <astropy.io.fits.hdu.image.ImageHDU object at 0x000001B42759D710>]"
      ]
     },
     "execution_count": 114,
     "metadata": {},
     "output_type": "execute_result"
    }
   ],
   "source": [
    "tess_test"
   ]
  },
  {
   "cell_type": "code",
   "execution_count": 83,
   "metadata": {},
   "outputs": [],
   "source": [
    "ap_size = len(ap)"
   ]
  },
  {
   "cell_type": "code",
   "execution_count": 84,
   "metadata": {},
   "outputs": [
    {
     "name": "stderr",
     "output_type": "stream",
     "text": [
      "C:\\Users\\User\\AppData\\Local\\Packages\\PythonSoftwareFoundation.Python.3.11_qbz5n2kfra8p0\\LocalCache\\local-packages\\Python311\\site-packages\\lightkurve\\search.py:423: LightkurveWarning: Warning: 35 files available to download. Only the first file has been downloaded. Please use `download_all()` or specify additional criteria (e.g. quarter, campaign, or sector) to limit your search.\n",
      "  warnings.warn(\n"
     ]
    }
   ],
   "source": [
    "tpf2 = lightkurve.search_tesscut(inputs).download(cutout_size=ap_size)"
   ]
  },
  {
   "cell_type": "code",
   "execution_count": 23,
   "metadata": {},
   "outputs": [
    {
     "data": {
      "text/plain": [
       "array([   0,    1,    2, ..., 1264, 1265, 1266])"
      ]
     },
     "execution_count": 23,
     "metadata": {},
     "output_type": "execute_result"
    }
   ],
   "source": [
    "tpf.cadenceno"
   ]
  },
  {
   "cell_type": "code",
   "execution_count": 115,
   "metadata": {},
   "outputs": [
    {
     "name": "stdout",
     "output_type": "stream",
     "text": [
      "Help on method plot in module lightkurve.targetpixelfile:\n",
      "\n",
      "plot(ax=None, frame=0, cadenceno=None, bkg=False, column='FLUX', aperture_mask=None, show_colorbar=True, mask_color='red', title=None, style='lightkurve', **kwargs) method of lightkurve.targetpixelfile.TessTargetPixelFile instance\n",
      "    Plot the pixel data for a single frame (i.e. at a single time).\n",
      "    \n",
      "    The time can be specified by frame index number (`frame=0` will show the\n",
      "    first frame) or absolute cadence number (`cadenceno`).\n",
      "    \n",
      "    Parameters\n",
      "    ----------\n",
      "    ax : `~matplotlib.axes.Axes`\n",
      "        A matplotlib axes object to plot into. If no axes is provided,\n",
      "        a new one will be generated.\n",
      "    frame : int\n",
      "        Frame number. The default is 0, i.e. the first frame.\n",
      "    cadenceno : int, optional\n",
      "        Alternatively, a cadence number can be provided.\n",
      "        This argument has priority over frame number.\n",
      "    bkg : bool\n",
      "        If True and `column=\"FLUX\"`, background will be added to the pixel values.\n",
      "    column : str\n",
      "        Choose the FITS data column to be plotted. May be one of ('FLUX',\n",
      "        'FLUX_ERR','FLUX_BKG','FLUX_BKG_ERR','COSMIC_RAYS','RAW_CNTS').\n",
      "    aperture_mask : ndarray or str\n",
      "        Highlight pixels selected by aperture_mask.\n",
      "    show_colorbar : bool\n",
      "        Whether or not to show the colorbar\n",
      "    mask_color : str\n",
      "        Color to show the aperture mask\n",
      "    style : str\n",
      "        Path or URL to a matplotlib style file, or name of one of\n",
      "        matplotlib's built-in stylesheets (e.g. 'ggplot').\n",
      "        Lightkurve's custom stylesheet is used by default.\n",
      "    kwargs : dict\n",
      "        Keywords arguments passed to `lightkurve.utils.plot_image`.\n",
      "    \n",
      "    Returns\n",
      "    -------\n",
      "    ax : `~matplotlib.axes.Axes`\n",
      "        The matplotlib axes object.\n",
      "\n"
     ]
    },
    {
     "data": {
      "text/plain": [
       "<Axes: title={'center': 'Target ID: TIC 25063656, Cadence: 120'}, xlabel='Pixel Column Number', ylabel='Pixel Row Number'>"
      ]
     },
     "execution_count": 115,
     "metadata": {},
     "output_type": "execute_result"
    },
    {
     "data": {
      "image/png": "[encoded data removed]",
      "text/plain": [
       "<Figure size 848.5x400 with 2 Axes>"
      ]
     },
     "metadata": {},
     "output_type": "display_data"
    }
   ],
   "source": [
    "%matplotlib inline\n",
    "\n",
    "\n",
    "help(tpf2.plot)\n",
    "tpf2.plot(cadenceno=120)"
   ]
  },
  {
   "cell_type": "code",
   "execution_count": 118,
   "metadata": {},
   "outputs": [
    {
     "name": "stdout",
     "output_type": "stream",
     "text": [
      "[[1 1 1 1 1 1 1 1 1 1 1 1 1 1 1 1 1 1 1 1 1 1 1 1 1]\n",
      " [1 1 1 1 1 1 1 1 1 1 1 1 1 1 1 1 1 1 1 1 1 1 1 1 1]\n",
      " [1 1 1 1 1 1 1 1 1 1 1 1 1 1 1 1 1 1 1 1 1 1 1 1 1]\n",
      " [1 1 1 1 1 1 1 1 1 1 1 1 1 1 1 1 1 1 1 1 1 1 1 1 1]\n",
      " [1 1 1 1 1 1 1 1 1 1 1 1 1 1 1 1 1 1 1 1 1 1 1 1 1]\n",
      " [1 1 1 1 1 1 1 1 1 1 1 1 1 1 1 1 1 1 1 1 1 1 1 1 1]\n",
      " [1 1 1 1 1 1 1 1 1 1 1 1 1 1 1 1 1 1 1 1 1 1 1 1 1]\n",
      " [1 1 1 1 1 1 1 1 1 1 1 1 1 1 1 1 1 1 1 1 1 1 1 1 1]\n",
      " [1 1 1 1 1 1 1 1 1 1 1 1 1 1 1 1 1 1 1 1 1 1 1 1 1]\n",
      " [1 1 1 1 1 1 1 1 1 1 1 1 1 1 1 1 1 1 1 1 1 1 1 1 1]\n",
      " [1 1 1 1 1 1 1 1 1 1 1 1 1 1 1 1 1 1 1 1 1 1 1 1 1]\n",
      " [1 1 1 1 1 1 1 1 1 1 1 1 1 1 1 1 1 1 1 1 1 1 1 1 1]\n",
      " [1 1 1 1 1 1 1 1 1 1 1 1 1 1 1 1 1 1 1 1 1 1 1 1 1]\n",
      " [1 1 1 1 1 1 1 1 1 1 1 1 1 1 1 1 1 1 1 1 1 1 1 1 1]\n",
      " [1 1 1 1 1 1 1 1 1 1 1 1 1 1 1 1 1 1 1 1 1 1 1 1 1]\n",
      " [1 1 1 1 1 1 1 1 1 1 1 1 1 1 1 1 1 1 1 1 1 1 1 1 1]\n",
      " [1 1 1 1 1 1 1 1 1 1 1 1 1 1 1 1 1 1 1 1 1 1 1 1 1]\n",
      " [1 1 1 1 1 1 1 1 1 1 1 1 1 1 1 1 1 1 1 1 1 1 1 1 1]\n",
      " [1 1 1 1 1 1 1 1 1 1 1 1 1 1 1 1 1 1 1 1 1 1 1 1 1]\n",
      " [1 1 1 1 1 1 1 1 1 1 1 1 1 1 1 1 1 1 1 1 1 1 1 1 1]\n",
      " [1 1 1 1 1 1 1 1 1 1 1 1 1 1 1 1 1 1 1 1 1 1 1 1 1]\n",
      " [1 1 1 1 1 1 1 1 1 1 1 1 1 1 1 1 1 1 1 1 1 1 1 1 1]\n",
      " [1 1 1 1 1 1 1 1 1 1 1 1 1 1 1 1 1 1 1 1 1 1 1 1 1]\n",
      " [1 1 1 1 1 1 1 1 1 1 1 1 1 1 1 1 1 1 1 1 1 1 1 1 1]\n",
      " [1 1 1 1 1 1 1 1 1 1 1 1 1 1 1 1 1 1 1 1 1 1 1 1 1]]\n"
     ]
    }
   ],
   "source": [
    "print(tpf2.hdu[2].data)"
   ]
  },
  {
   "cell_type": "code",
   "execution_count": 43,
   "metadata": {},
   "outputs": [],
   "source": [
    "sr3 = fits.open(r\"C:\\Users\\User\\Desktop\\FluxCT\\FluxCT_AutoClean\\TASOC\\mastDownload\\HLSP\\hlsp_tasoc_tess_ffi_tic00025063656-s0001-cam4-ccd1-c1800_tess_v05\\hlsp_tasoc_tess_ffi_tic00025063656-s0001-cam4-ccd1-c1800_tess_v05_cbv-lc.fits\")\n",
    "sr4 = fits.open(r\"C:\\Users\\User\\Desktop\\FluxCT\\FluxCT_AutoClean\\TASOC\\mastDownload\\HLSP\\hlsp_tasoc_tess_ffi_tic00025063656-s0002-cam4-ccd2-c1800_tess_v05\\hlsp_tasoc_tess_ffi_tic00025063656-s0002-cam4-ccd2-c1800_tess_v05_cbv-lc.fits\")"
   ]
  },
  {
   "cell_type": "code",
   "execution_count": 46,
   "metadata": {},
   "outputs": [
    {
     "name": "stdout",
     "output_type": "stream",
     "text": [
      "[[261 261 261 261 261 261 261 261 261 261 261 261 261 261 261]\n",
      " [261 261 261 261 261 261 261 261 261 261 261 261 261 261 261]\n",
      " [261 261 261 261 261 261 261 261 261 261 261 261 261 261 261]\n",
      " [261 261 261 261 261 261 261 261 261 261 261 261 261 261 261]\n",
      " [261 261 261 261 261 261 271 271 271 271 271 271 261 261 261]\n",
      " [261 261 261 261 261 271 271 271 271 271 271 271 271 261 261]\n",
      " [261 261 261 261 271 271 271 271 271 271 271 271 271 261 261]\n",
      " [261 261 261 261 271 271 271 271 271 271 271 271 261 261 261]\n",
      " [261 261 261 261 271 271 271 271 271 271 271 271 261 261 261]\n",
      " [261 261 261 261 271 271 271 271 271 271 271 271 271 261 261]\n",
      " [261 261 261 261 271 271 271 271 271 271 271 271 271 271 261]\n",
      " [261 261 261 261 261 271 271 271 271 271 271 271 261 261 261]\n",
      " [261 261 261 261 261 271 271 271 271 271 271 261 261 261 261]\n",
      " [261 261 261 261 261 261 271 271 271 261 261 261 261 261 261]\n",
      " [261 261 261 261 261 261 261 271 261 261 261 261 261 261 261]\n",
      " [261 261 261 261 261 261 261 261 261 261 261 261 261 261 261]\n",
      " [261 261 261 261 261 261 261 261 261 261 261 261 261 261 261]\n",
      " [261 261 261 261 261 261 261 261 261 261 261 261 261 261 261]\n",
      " [261 261 261 261 261 261 261 261 261 261 261 261 261 261 261]\n",
      " [261 261 261 261 261 261 261 261 261 261 261 261 261 261 261]\n",
      " [261 261 261 261 261 261 261 261 261 261 261 261 261 261 261]\n",
      " [261 261 261 261 261 261 261 261 261 261 261 261 261 261 261]\n",
      " [261 261 261 261 261 261 261 261 261 261 261 261 261 261 261]\n",
      " [261 261 261 261 261 261 261 261 261 261 261 261 261 261 261]\n",
      " [261 261 261 261 261 261 261 261 261 261 261 261 261 261 261]]\n",
      "[[37 37 37 37 37 37 37 37 37 37 37 37 37 37 37]\n",
      " [37 37 37 37 37 37 37 37 37 37 37 37 37 37 37]\n",
      " [37 37 37 37 37 37 37 37 37 37 37 37 37 37 37]\n",
      " [37 37 37 37 37 37 37 37 37 37 37 37 37 37 37]\n",
      " [37 37 37 37 37 37 47 47 47 37 37 37 37 37 37]\n",
      " [37 37 37 37 37 47 47 47 47 47 47 37 37 37 37]\n",
      " [37 37 37 37 47 47 47 47 47 47 47 47 37 37 37]\n",
      " [37 37 37 47 47 47 47 47 47 47 47 47 47 37 37]\n",
      " [37 37 37 47 47 47 47 47 47 47 47 47 37 37 37]\n",
      " [37 37 37 47 47 47 47 47 47 47 47 37 37 37 37]\n",
      " [37 37 37 47 47 47 47 47 47 47 47 37 37 37 37]\n",
      " [37 37 37 47 47 47 47 47 47 47 37 37 37 37 37]\n",
      " [37 37 37 47 47 47 47 47 47 47 47 37 37 37 37]\n",
      " [37 37 37 37 47 37 37 37 47 37 47 37 37 37 37]\n",
      " [37 37 37 37 37 37 37 37 37 37 37 37 37 37 37]]\n"
     ]
    }
   ],
   "source": [
    "print(sr3[3].data)\n",
    "print(sr4[3].data)\n",
    "tasoc_ap = sr3[3].data\n",
    "\n",
    "ap = (tasoc_ap & 2).astype(bool)"
   ]
  },
  {
   "cell_type": "code",
   "execution_count": 48,
   "metadata": {},
   "outputs": [
    {
     "name": "stdout",
     "output_type": "stream",
     "text": [
      "[[False False False False False False False False False False False False\n",
      "  False False False]\n",
      " [False False False False False False False False False False False False\n",
      "  False False False]\n",
      " [False False False False False False False False False False False False\n",
      "  False False False]\n",
      " [False False False False False False False False False False False False\n",
      "  False False False]\n",
      " [False False False False False False  True  True  True  True  True  True\n",
      "  False False False]\n",
      " [False False False False False  True  True  True  True  True  True  True\n",
      "   True False False]\n",
      " [False False False False  True  True  True  True  True  True  True  True\n",
      "   True False False]\n",
      " [False False False False  True  True  True  True  True  True  True  True\n",
      "  False False False]\n",
      " [False False False False  True  True  True  True  True  True  True  True\n",
      "  False False False]\n",
      " [False False False False  True  True  True  True  True  True  True  True\n",
      "   True False False]\n",
      " [False False False False  True  True  True  True  True  True  True  True\n",
      "   True  True False]\n",
      " [False False False False False  True  True  True  True  True  True  True\n",
      "  False False False]\n",
      " [False False False False False  True  True  True  True  True  True False\n",
      "  False False False]\n",
      " [False False False False False False  True  True  True False False False\n",
      "  False False False]\n",
      " [False False False False False False False  True False False False False\n",
      "  False False False]\n",
      " [False False False False False False False False False False False False\n",
      "  False False False]\n",
      " [False False False False False False False False False False False False\n",
      "  False False False]\n",
      " [False False False False False False False False False False False False\n",
      "  False False False]\n",
      " [False False False False False False False False False False False False\n",
      "  False False False]\n",
      " [False False False False False False False False False False False False\n",
      "  False False False]\n",
      " [False False False False False False False False False False False False\n",
      "  False False False]\n",
      " [False False False False False False False False False False False False\n",
      "  False False False]\n",
      " [False False False False False False False False False False False False\n",
      "  False False False]\n",
      " [False False False False False False False False False False False False\n",
      "  False False False]\n",
      " [False False False False False False False False False False False False\n",
      "  False False False]]\n"
     ]
    }
   ],
   "source": [
    "print(ap)"
   ]
  },
  {
   "cell_type": "code",
   "execution_count": null,
   "metadata": {},
   "outputs": [],
   "source": []
  },
  {
   "cell_type": "code",
   "execution_count": 5,
   "metadata": {},
   "outputs": [
    {
     "name": "stdout",
     "output_type": "stream",
     "text": [
      "\n",
      "********** TESS 25063656 – Star Number 0 **********\n"
     ]
    },
    {
     "name": "stderr",
     "output_type": "stream",
     "text": [
      "C:\\Users\\User\\AppData\\Local\\Packages\\PythonSoftwareFoundation.Python.3.11_qbz5n2kfra8p0\\LocalCache\\local-packages\\Python311\\site-packages\\lightkurve\\search.py:423: LightkurveWarning: Warning: 2 files available to download. Only the first file has been downloaded. Please use `download_all()` or specify additional criteria (e.g. quarter, campaign, or sector) to limit your search.\n",
      "  warnings.warn(\n"
     ]
    },
    {
     "ename": "PermissionError",
     "evalue": "[WinError 32] The process cannot access the file because it is being used by another process: 'C:\\\\Users\\\\User\\\\Desktop\\\\FluxCT\\\\FluxCT_AutoClean\\\\batch_code\\\\example_code_and_plots/tess_25063656_fits.fits'",
     "output_type": "error",
     "traceback": [
      "\u001b[1;31m---------------------------------------------------------------------------\u001b[0m",
      "\u001b[1;31mPermissionError\u001b[0m                           Traceback (most recent call last)",
      "\u001b[1;32mc:\\Users\\User\\Desktop\\FluxCT\\FluxCT_AutoClean\\batch_code\\example_code_and_plots\\test.ipynb Cell 9\u001b[0m line \u001b[0;36m1\n\u001b[0;32m     <a href='vscode-notebook-cell:/c%3A/Users/User/Desktop/FluxCT/FluxCT_AutoClean/batch_code/example_code_and_plots/test.ipynb#X10sZmlsZQ%3D%3D?line=13'>14</a>\u001b[0m tpf \u001b[39m=\u001b[39m search_targetpixelfile(\u001b[39m'\u001b[39m\u001b[39mTIC \u001b[39m\u001b[39m'\u001b[39m \u001b[39m+\u001b[39m \u001b[39mstr\u001b[39m(tess), author\u001b[39m=\u001b[39m\u001b[39m'\u001b[39m\u001b[39mSPOC\u001b[39m\u001b[39m'\u001b[39m, cadence\u001b[39m=\u001b[39m\u001b[39m'\u001b[39m\u001b[39mshort\u001b[39m\u001b[39m'\u001b[39m)\u001b[39m.\u001b[39mdownload()\n\u001b[0;32m     <a href='vscode-notebook-cell:/c%3A/Users/User/Desktop/FluxCT/FluxCT_AutoClean/batch_code/example_code_and_plots/test.ipynb#X10sZmlsZQ%3D%3D?line=14'>15</a>\u001b[0m tpf_one \u001b[39m=\u001b[39m tpf[\u001b[39m0\u001b[39m]\n\u001b[1;32m---> <a href='vscode-notebook-cell:/c%3A/Users/User/Desktop/FluxCT/FluxCT_AutoClean/batch_code/example_code_and_plots/test.ipynb#X10sZmlsZQ%3D%3D?line=15'>16</a>\u001b[0m tpf_one\u001b[39m.\u001b[39;49mto_fits(plot_path \u001b[39m+\u001b[39;49m \u001b[39m'\u001b[39;49m\u001b[39mtess_\u001b[39;49m\u001b[39m'\u001b[39;49m \u001b[39m+\u001b[39;49m \u001b[39mstr\u001b[39;49m(tess) \u001b[39m+\u001b[39;49m \u001b[39m'\u001b[39;49m\u001b[39m_fits.fits\u001b[39;49m\u001b[39m'\u001b[39;49m,overwrite\u001b[39m=\u001b[39;49m\u001b[39mTrue\u001b[39;49;00m)\n\u001b[0;32m     <a href='vscode-notebook-cell:/c%3A/Users/User/Desktop/FluxCT/FluxCT_AutoClean/batch_code/example_code_and_plots/test.ipynb#X10sZmlsZQ%3D%3D?line=17'>18</a>\u001b[0m \u001b[39m# Finding tpa\u001b[39;00m\n\u001b[0;32m     <a href='vscode-notebook-cell:/c%3A/Users/User/Desktop/FluxCT/FluxCT_AutoClean/batch_code/example_code_and_plots/test.ipynb#X10sZmlsZQ%3D%3D?line=18'>19</a>\u001b[0m array \u001b[39m=\u001b[39m tpf_one\u001b[39m.\u001b[39mpipeline_mask \n",
      "File \u001b[1;32m~\\AppData\\Local\\Packages\\PythonSoftwareFoundation.Python.3.11_qbz5n2kfra8p0\\LocalCache\\local-packages\\Python311\\site-packages\\lightkurve\\targetpixelfile.py:1280\u001b[0m, in \u001b[0;36mTargetPixelFile.to_fits\u001b[1;34m(self, output_fn, overwrite)\u001b[0m\n\u001b[0;32m   1278\u001b[0m \u001b[39mif\u001b[39;00m output_fn \u001b[39mis\u001b[39;00m \u001b[39mNone\u001b[39;00m:\n\u001b[0;32m   1279\u001b[0m     output_fn \u001b[39m=\u001b[39m \u001b[39m\"\u001b[39m\u001b[39m{}\u001b[39;00m\u001b[39m-targ.fits\u001b[39m\u001b[39m\"\u001b[39m\u001b[39m.\u001b[39mformat(\u001b[39mself\u001b[39m\u001b[39m.\u001b[39mtargetid)\n\u001b[1;32m-> 1280\u001b[0m \u001b[39mself\u001b[39;49m\u001b[39m.\u001b[39;49mhdu\u001b[39m.\u001b[39;49mwriteto(output_fn, overwrite\u001b[39m=\u001b[39;49moverwrite, checksum\u001b[39m=\u001b[39;49m\u001b[39mTrue\u001b[39;49;00m)\n",
      "File \u001b[1;32m~\\AppData\\Local\\Packages\\PythonSoftwareFoundation.Python.3.11_qbz5n2kfra8p0\\LocalCache\\local-packages\\Python311\\site-packages\\astropy\\io\\fits\\hdu\\hdulist.py:1010\u001b[0m, in \u001b[0;36mHDUList.writeto\u001b[1;34m(self, fileobj, output_verify, overwrite, checksum)\u001b[0m\n\u001b[0;32m   1006\u001b[0m mode \u001b[39m=\u001b[39m FILE_MODES[fileobj_mode(fileobj)] \u001b[39mif\u001b[39;00m isfile(fileobj) \u001b[39melse\u001b[39;00m \u001b[39m\"\u001b[39m\u001b[39mostream\u001b[39m\u001b[39m\"\u001b[39m\n\u001b[0;32m   1008\u001b[0m \u001b[39m# This can accept an open file object that's open to write only, or in\u001b[39;00m\n\u001b[0;32m   1009\u001b[0m \u001b[39m# append/update modes but only if the file doesn't exist.\u001b[39;00m\n\u001b[1;32m-> 1010\u001b[0m fileobj \u001b[39m=\u001b[39m _File(fileobj, mode\u001b[39m=\u001b[39;49mmode, overwrite\u001b[39m=\u001b[39;49moverwrite)\n\u001b[0;32m   1011\u001b[0m hdulist \u001b[39m=\u001b[39m \u001b[39mself\u001b[39m\u001b[39m.\u001b[39mfromfile(fileobj)\n\u001b[0;32m   1012\u001b[0m \u001b[39mtry\u001b[39;00m:\n",
      "File \u001b[1;32m~\\AppData\\Local\\Packages\\PythonSoftwareFoundation.Python.3.11_qbz5n2kfra8p0\\LocalCache\\local-packages\\Python311\\site-packages\\astropy\\io\\fits\\file.py:217\u001b[0m, in \u001b[0;36m_File.__init__\u001b[1;34m(self, fileobj, mode, memmap, overwrite, cache, use_fsspec, fsspec_kwargs)\u001b[0m\n\u001b[0;32m    215\u001b[0m     \u001b[39mself\u001b[39m\u001b[39m.\u001b[39m_open_fileobj(fileobj, mode, overwrite)\n\u001b[0;32m    216\u001b[0m \u001b[39melif\u001b[39;00m \u001b[39misinstance\u001b[39m(fileobj, (\u001b[39mstr\u001b[39m, \u001b[39mbytes\u001b[39m)):\n\u001b[1;32m--> 217\u001b[0m     \u001b[39mself\u001b[39;49m\u001b[39m.\u001b[39;49m_open_filename(fileobj, mode, overwrite)\n\u001b[0;32m    218\u001b[0m \u001b[39melse\u001b[39;00m:\n\u001b[0;32m    219\u001b[0m     \u001b[39mself\u001b[39m\u001b[39m.\u001b[39m_open_filelike(fileobj, mode, overwrite)\n",
      "File \u001b[1;32m~\\AppData\\Local\\Packages\\PythonSoftwareFoundation.Python.3.11_qbz5n2kfra8p0\\LocalCache\\local-packages\\Python311\\site-packages\\astropy\\io\\fits\\file.py:615\u001b[0m, in \u001b[0;36m_File._open_filename\u001b[1;34m(self, filename, mode, overwrite)\u001b[0m\n\u001b[0;32m    613\u001b[0m \u001b[39m\u001b[39m\u001b[39m\"\"\"Open a FITS file from a filename string.\"\"\"\u001b[39;00m\n\u001b[0;32m    614\u001b[0m \u001b[39mif\u001b[39;00m mode \u001b[39m==\u001b[39m \u001b[39m\"\u001b[39m\u001b[39mostream\u001b[39m\u001b[39m\"\u001b[39m:\n\u001b[1;32m--> 615\u001b[0m     \u001b[39mself\u001b[39;49m\u001b[39m.\u001b[39;49m_overwrite_existing(overwrite, \u001b[39mNone\u001b[39;49;00m, \u001b[39mTrue\u001b[39;49;00m)\n\u001b[0;32m    617\u001b[0m \u001b[39mif\u001b[39;00m os\u001b[39m.\u001b[39mpath\u001b[39m.\u001b[39mexists(\u001b[39mself\u001b[39m\u001b[39m.\u001b[39mname):\n\u001b[0;32m    618\u001b[0m     \u001b[39mwith\u001b[39;00m \u001b[39mopen\u001b[39m(\u001b[39mself\u001b[39m\u001b[39m.\u001b[39mname, \u001b[39m\"\u001b[39m\u001b[39mrb\u001b[39m\u001b[39m\"\u001b[39m) \u001b[39mas\u001b[39;00m f:\n",
      "File \u001b[1;32m~\\AppData\\Local\\Packages\\PythonSoftwareFoundation.Python.3.11_qbz5n2kfra8p0\\LocalCache\\local-packages\\Python311\\site-packages\\astropy\\io\\fits\\file.py:496\u001b[0m, in \u001b[0;36m_File._overwrite_existing\u001b[1;34m(self, overwrite, fileobj, closed)\u001b[0m\n\u001b[0;32m    494\u001b[0m         \u001b[39mif\u001b[39;00m \u001b[39mnot\u001b[39;00m closed:\n\u001b[0;32m    495\u001b[0m             fileobj\u001b[39m.\u001b[39mclose()\n\u001b[1;32m--> 496\u001b[0m         os\u001b[39m.\u001b[39;49mremove(\u001b[39mself\u001b[39;49m\u001b[39m.\u001b[39;49mname)\n\u001b[0;32m    497\u001b[0m \u001b[39melse\u001b[39;00m:\n\u001b[0;32m    498\u001b[0m     \u001b[39mraise\u001b[39;00m \u001b[39mOSError\u001b[39;00m(NOT_OVERWRITING_MSG\u001b[39m.\u001b[39mformat(\u001b[39mself\u001b[39m\u001b[39m.\u001b[39mname))\n",
      "\u001b[1;31mPermissionError\u001b[0m: [WinError 32] The process cannot access the file because it is being used by another process: 'C:\\\\Users\\\\User\\\\Desktop\\\\FluxCT\\\\FluxCT_AutoClean\\\\batch_code\\\\example_code_and_plots/tess_25063656_fits.fits'"
     ]
    }
   ],
   "source": [
    "tess_list = []\n",
    "gaia_source_list = []\n",
    "ra_list = []\n",
    "dec_list = []\n",
    "g_mag_list = []\n",
    "ruwe_list = []\n",
    "flux_list = []\n",
    "not_found = []\n",
    "a = 0\n",
    "\n",
    "inputs = \"TIC 25063656\"\n",
    "tess = inputs[4:]\n",
    "print('\\n********** TESS ' + str(tess) + ' – Star Number ' + str(a) + ' **********') \n",
    "tpf = search_targetpixelfile('TIC ' + str(tess), author='SPOC', cadence='short').download()\n",
    "tpf_one = tpf[0]\n",
    "tpf_one.to_fits(plot_path + 'tess_' + str(tess) + '_fits.fits',overwrite=True)\n",
    "\n",
    "# Finding tpa\n",
    "array = tpf_one.pipeline_mask \n",
    "print(\"pipe line mask array is\",array)\n",
    "\n",
    "# Finding the count of each pixel in the rows and columns of the mask. \n",
    "row_count = np.count_nonzero(array, axis=1)\n",
    "col_count = np.count_nonzero(array, axis=0) \n",
    "\n",
    "# Columns = col are counting the x coordinate from left to right. \n",
    "# This is the lower limit in pixel number for the left hand side of the array\n",
    "# By adding 1 to the result I am removing the index to 0.\n",
    "count_x = 0\n",
    "if col_count[0] != 0:\n",
    "    count_x = 0\n",
    "else:\n",
    "    for i in range(len(col_count)):\n",
    "        if col_count[i] == 0:\n",
    "            count_x = i\n",
    "        else:\n",
    "            count_x = count_x + 1\n",
    "            break\n",
    "    \n",
    "# Rows are counting the y coordinate from bottom to top.\n",
    "# This is the lower limit in pixel number for the bottom of the array\n",
    "# By adding 1 to the result I am removing the index to 0.\n",
    "count_y = 0\n",
    "if row_count[0] != 0:\n",
    "    count_y = 0\n",
    "else:\n",
    "    for j in range(len(row_count)):\n",
    "        if row_count[j] == 0:\n",
    "            count_y = j \n",
    "        else:\n",
    "            count_y = count_y + 1\n",
    "            break\n",
    "\n",
    "# Finding the top right pixel\n",
    "array_2  = array[np.ix_(~np.all(array == False, axis=1), ~np.all(array == False, axis=0))]\n",
    "tr_y = array_2.shape[0]  \n",
    "tr_x = array_2.shape[1]  \n",
    "\n",
    "# Top left pixel position \n",
    "tl_x = count_x - 0.5\n",
    "tl_y = count_y + tr_y - 1 + 0.5\n",
    "\n",
    "# Bottom right pixel position \n",
    "br_x = count_x + tr_x - 1 + 0.5\n",
    "br_y = count_y - 0.5\n",
    "\n",
    "# Bottom left pixel position\n",
    "# Starts from the first pixel with a non-zero value so only include count_x and count_y \n",
    "bl_x = count_x - 0.5\n",
    "bl_y = count_y - 0.5\n",
    "\n",
    "# Top right pixel position\n",
    "# Already calaculated these so just add the 0.5\n",
    "tr_x = count_x + tr_x - 1 + 0.5\n",
    "tr_y = count_y + tr_y - 1 + 0.5 \n",
    "\n",
    "# Pulling image to plot\n",
    "tpf_data = fits.open(plot_path + 'tess_' + str(tess) + '_fits.fits')\n",
    "image = tpf_data[1].data\n",
    "image = image['FLUX'][0]\n",
    "wcs = WCS(tpf_data[2].header)\n",
    "\n",
    "# Finding the corners of the aperture mask\n",
    "tl = tpf_one.wcs.pixel_to_world(tl_x, tl_y)\n",
    "tr = tpf_one.wcs.pixel_to_world(tr_x, tr_y)\n",
    "bl = tpf_one.wcs.pixel_to_world(bl_x, bl_y)\n",
    "br = tpf_one.wcs.pixel_to_world(br_x, br_y)\n",
    "\n",
    "# Converting the corners of the aperture mask to coordinates for Gaia\n",
    "top_left = wcs.world_to_pixel(tl)\n",
    "top_right = wcs.world_to_pixel(tr)\n",
    "bottom_left = wcs.world_to_pixel(bl)\n",
    "bottom_right = wcs.world_to_pixel(br)\n",
    "\n",
    "# Coordinates to search in Gaia \n",
    "tr_ra = tr.ra.deg\n",
    "tr_dec = tr.dec.deg\n",
    "tl_ra = tl.ra.deg\n",
    "tl_dec = tl.dec.deg\n",
    "br_ra = br.ra.deg\n",
    "br_dec = br.dec.deg\n",
    "bl_ra = bl.ra.deg\n",
    "bl_dec = bl.dec.deg\n",
    "\n",
    "# Creating Gaia call\n",
    "polygon = str(br_ra) + ', ' + str(br_dec) + ', ' + str(bl_ra) + ', ' + str(bl_dec) + ', ' + str(tl_ra) + ', ' + str(tl_dec) + ', ' + str(tr_ra) + ', ' + str(tr_dec)\n",
    "columns = 'source_id, ra, dec, phot_g_mean_mag, ruwe, phot_g_mean_flux'\n",
    "polygon_top10query_base = \"\"\"SELECT\n",
    "{columns}\n",
    "FROM gaiaedr3.gaia_source\n",
    "WHERE 1=CONTAINS(\n",
    "        POINT(ra, dec), \n",
    "        POLYGON({polygon}))\n",
    "\"\"\"\n",
    "\n",
    "# Querying Gaia\n",
    "polygon_top10query = polygon_top10query_base.format(columns=columns, \n",
    "                        polygon=polygon)\n",
    "\n",
    "polygon_top10query_job = Gaia.launch_job_async(polygon_top10query)\n",
    "\n",
    "polygon_top10query_results = polygon_top10query_job.get_results()\n",
    "print(\"polygonresults\",polygon_top10query_results)\n",
    "\n"
   ]
  },
  {
   "cell_type": "code",
   "execution_count": 3,
   "metadata": {},
   "outputs": [
    {
     "data": {
      "text/plain": [
       "<Axes: title={'center': 'Target ID: 25063656, Cadence: 132082'}, xlabel='Pixel Column Number', ylabel='Pixel Row Number'>"
      ]
     },
     "execution_count": 3,
     "metadata": {},
     "output_type": "execute_result"
    },
    {
     "data": {
      "image/png": "[encoded data removed]",
      "text/plain": [
       "<Figure size 848.5x400 with 2 Axes>"
      ]
     },
     "metadata": {},
     "output_type": "display_data"
    }
   ],
   "source": [
    "%matplotlib inline\n",
    "\n",
    "tpf_one.plot()\n"
   ]
  },
  {
   "cell_type": "code",
   "execution_count": 5,
   "metadata": {},
   "outputs": [],
   "source": [
    "# Pulling data from Gaia\n",
    "plot_source = list(polygon_top10query_results['source_id'])\n",
    "plot_ra = list(polygon_top10query_results['ra'])\n",
    "plot_dec = list(polygon_top10query_results['dec'])\n",
    "phot = list(polygon_top10query_results['phot_g_mean_mag'])\n",
    "ruwe = list(polygon_top10query_results['ruwe']) \n",
    "flux = list(polygon_top10query_results['phot_g_mean_flux']) "
   ]
  },
  {
   "cell_type": "code",
   "execution_count": 8,
   "metadata": {},
   "outputs": [
    {
     "data": {
      "text/plain": [
       "[]"
      ]
     },
     "execution_count": 8,
     "metadata": {},
     "output_type": "execute_result"
    }
   ],
   "source": []
  },
  {
   "cell_type": "code",
   "execution_count": 15,
   "metadata": {},
   "outputs": [],
   "source": [
    "# Pulling data from Gaia\n",
    "plot_source = list(polygon_top10query_results['source_id'])\n",
    "plot_ra = list(polygon_top10query_results['ra'])\n",
    "plot_dec = list(polygon_top10query_results['dec'])\n",
    "phot = list(polygon_top10query_results['phot_g_mean_mag'])\n",
    "ruwe = list(polygon_top10query_results['ruwe']) \n",
    "flux = list(polygon_top10query_results['phot_g_mean_flux']) \n",
    "\n",
    "# Initializing lists\n",
    "plot_source_order = []\n",
    "plot_ra_order = []\n",
    "plot_dec_order = []\n",
    "plot_ruwe_order = []\n",
    "plot_phot_order = np.sort(phot)\n",
    "plot_flux_order = []\n",
    "\n",
    "# Putting the data in the correct order for plotting\n",
    "for i in range(len(phot)):\n",
    "    if plot_phot_order[i] in phot:\n",
    "        index = phot.index(plot_phot_order[i])\n",
    "        plot_source_order.append(plot_source[index]) \n",
    "        plot_ra_order.append(plot_ra[index])\n",
    "        plot_dec_order.append(plot_dec[index])\n",
    "        plot_ruwe_order.append(ruwe[index]) \n",
    "        plot_flux_order.append(flux[index]) \n",
    "\n",
    "# Saving final data lists for the output file\n",
    "tess_list.append(tess)\n",
    "ra_list.append(plot_ra_order) \n",
    "dec_list.append(plot_dec_order) \n",
    "gaia_source_list.append(plot_source_order) \n",
    "ruwe_list.append(plot_ruwe_order) \n",
    "flux_list.append(plot_flux_order) \n"
   ]
  },
  {
   "cell_type": "code",
   "execution_count": 1,
   "metadata": {},
   "outputs": [
    {
     "ename": "NameError",
     "evalue": "name 'plot_phot_order' is not defined",
     "output_type": "error",
     "traceback": [
      "\u001b[1;31m---------------------------------------------------------------------------\u001b[0m",
      "\u001b[1;31mNameError\u001b[0m                                 Traceback (most recent call last)",
      "\u001b[1;32mc:\\Users\\User\\Desktop\\FluxCT\\FluxCT_AutoClean\\batch_code\\example_code_and_plots\\test.ipynb Cell 13\u001b[0m line \u001b[0;36m1\n\u001b[1;32m----> <a href='vscode-notebook-cell:/c%3A/Users/User/Desktop/FluxCT/FluxCT_AutoClean/batch_code/example_code_and_plots/test.ipynb#X15sZmlsZQ%3D%3D?line=0'>1</a>\u001b[0m plot_phot_order\n",
      "\u001b[1;31mNameError\u001b[0m: name 'plot_phot_order' is not defined"
     ]
    }
   ],
   "source": [
    "plot_phot_order"
   ]
  },
  {
   "cell_type": "code",
   "execution_count": null,
   "metadata": {},
   "outputs": [],
   "source": [
    "\n",
    "# Removing nans from the photometry\n",
    "plot_phot_order = [-999 if math.isnan(x) else x for x in plot_phot_order]\n",
    "g_mag_list.append(plot_phot_order) \n",
    "\n",
    "# Determining the coordinates of the companions for plotting\n",
    "companions = SkyCoord(plot_ra_order, plot_dec_order, unit='deg')\n",
    "print(\"companians is\",companions)\n",
    "companions_to_plot = wcs.world_to_pixel(companions)\n",
    "\n",
    "# Making beautiful plot! \n",
    "if len(companions_to_plot[0]) == 0: \n",
    "    print(\"not found 5555555555555\")\n",
    "    not_found.append(tess) \n",
    "else: \n",
    "\n",
    "    # Setting figure\n",
    "    fig = plt.figure(figsize=(18, 15))\n",
    "    fig.add_subplot(111, projection = wcs) \n",
    "\n",
    "    # Plotting corners and box around TPA \n",
    "    top_line_x = [tl_x, tr_x]\n",
    "    top_line_y = [tl_y, tr_y]\n",
    "    plt.plot(top_line_x, top_line_y, linewidth=3, color='white')\n",
    "    bottom_line_x = [bl_x, br_x]\n",
    "    bottom_line_y = [bl_y, br_y]\n",
    "    plt.plot(bottom_line_x, bottom_line_y, linewidth=3, color='white')\n",
    "    left_line_x = [bl_x, tl_x]\n",
    "    left_line_y = [bl_y, tl_y]\n",
    "    plt.plot(left_line_x, left_line_y, linewidth=3, color='white')\n",
    "    right_line_x = [br_x, tr_x]\n",
    "    right_line_y = [br_y, tr_y]\n",
    "    plt.plot(right_line_x, right_line_y, linewidth=3, color='white')\n",
    "\n",
    "    # Plotting magnitudes \n",
    "    for i in range(len(phot)):\n",
    "        try:\n",
    "            plt.text(companions_to_plot[0][i], companions_to_plot[1][i], str(round(plot_phot_order[i], 3)), color='#dd1c77', fontsize=25)\n",
    "        except:\n",
    "            continue\n",
    "\n",
    "    # Plotting target star and companions\n",
    "    plt.scatter(companions_to_plot[0][1:], companions_to_plot[1][1:], marker='*', s=2000, color='white', edgecolor='black')\n",
    "    plt.scatter(companions_to_plot[0][0], companions_to_plot[1][0], marker='*', s=2000, color='pink', edgecolor='black')\n",
    "    \n",
    "    # Plotting corner text \n",
    "    plt.text(tr_x+0.2, tr_y+0.2, 'RA = ' + str(round(tr.ra.deg, 4)) + '\\nDec = ' + str(round(tr.dec.deg, 4)), fontsize=15, backgroundcolor='white') \n",
    "    plt.text(tl_x-1.8, tl_y+0.2, 'RA = ' + str(round(tl.ra.deg, 4)) + '\\nDec = ' + str(round(tl.dec.deg, 4)), fontsize=15, backgroundcolor='white') \n",
    "    plt.text(br_x+0.2, br_y+0.2, 'RA = ' + str(round(br.ra.deg, 4)) + '\\nDec = ' + str(round(br.dec.deg, 4)), fontsize=15, backgroundcolor='white') \n",
    "    plt.text(bl_x-1.8, bl_y+0.2, 'RA = ' + str(round(bl.ra.deg, 4)) + '\\nDec = ' + str(round(bl.dec.deg, 4)), fontsize=15, backgroundcolor='white') \n",
    "    \n",
    "    # Plotting corners\n",
    "    plt.scatter(tr_x, tr_y, s=200, marker='X', color='white') # Top right\n",
    "    plt.scatter(tl_x, tl_y, s=200, marker='X', color='white') # Top left\n",
    "    plt.scatter(br_x, br_y, s=200, marker='X', color='white') # Bottom right\n",
    "    plt.scatter(bl_x, bl_y, s=200, marker='X', color='white') # Bottom left\n",
    "\n",
    "    # Setting axes for ticks\n",
    "    ax = plt.gca()\n",
    "\n",
    "    # Plotting axes labels, titles, and images\n",
    "    plt.ylabel('DEC [degrees]', fontsize=20)\n",
    "    plt.xlabel('RA [hourangle]', fontsize=20)\n",
    "    plt.imshow(image, origin='lower', cmap='RdPu_r', alpha=1)\n",
    "    plt.imshow(array, origin='lower',  cmap='binary_r', alpha=0.2)\n",
    "    plt.title('TESS ' + str(tess), fontsize=20)\n",
    "\n",
    "    # Setting tick parameters \n",
    "    ax.tick_params(axis='x', labelsize=20)\n",
    "    ax.tick_params(axis='y', labelsize=20)\n",
    "\n",
    "    # Plotting grid and saving the file\n",
    "    plt.grid(axis = 'both', color='grey', ls = ':', linewidth=6)\n",
    "    plt.show()\n",
    "    plt.savefig(plot_path + str(tess) + 'new.png')\n",
    "    a = a + 1\n",
    "    tpf_data.close()\n",
    "    "
   ]
  },
  {
   "cell_type": "markdown",
   "metadata": {},
   "source": []
  },
  {
   "cell_type": "markdown",
   "metadata": {},
   "source": []
  },
  {
   "cell_type": "markdown",
   "metadata": {},
   "source": []
  },
  {
   "cell_type": "code",
   "execution_count": 72,
   "metadata": {},
   "outputs": [
    {
     "name": "stdout",
     "output_type": "stream",
     "text": [
      "\n",
      "********** TESS 25063215 – Star Number 0 **********\n",
      "tpf is  None\n",
      "downloade started, searching for\n",
      "TIC 25063215\n"
     ]
    },
    {
     "name": "stderr",
     "output_type": "stream",
     "text": [
      "C:\\Users\\User\\AppData\\Local\\Packages\\PythonSoftwareFoundation.Python.3.11_qbz5n2kfra8p0\\LocalCache\\local-packages\\Python311\\site-packages\\lightkurve\\search.py:418: LightkurveWarning: Cannot download from an empty search result.\n",
      "  warnings.warn(\n",
      "C:\\Users\\User\\AppData\\Local\\Packages\\PythonSoftwareFoundation.Python.3.11_qbz5n2kfra8p0\\LocalCache\\local-packages\\Python311\\site-packages\\lightkurve\\search.py:423: LightkurveWarning: Warning: 33 files available to download. Only the first file has been downloaded. Please use `download_all()` or specify additional criteria (e.g. quarter, campaign, or sector) to limit your search.\n",
      "  warnings.warn(\n"
     ]
    },
    {
     "name": "stdout",
     "output_type": "stream",
     "text": [
      "downloade complete, tpf is now TessTargetPixelFile(TICID: TIC 25063215)\n",
      "INFO: Query finished. [astroquery.utils.tap.core]\n",
      "\n",
      "********** TESS 25063281 – Star Number 0 **********\n"
     ]
    },
    {
     "name": "stderr",
     "output_type": "stream",
     "text": [
      "No data found for target \"TIC 25063281\".\n",
      "C:\\Users\\User\\AppData\\Local\\Packages\\PythonSoftwareFoundation.Python.3.11_qbz5n2kfra8p0\\LocalCache\\local-packages\\Python311\\site-packages\\lightkurve\\search.py:418: LightkurveWarning: Cannot download from an empty search result.\n",
      "  warnings.warn(\n"
     ]
    },
    {
     "name": "stdout",
     "output_type": "stream",
     "text": [
      "tpf is  None\n",
      "downloade started, searching for\n",
      "TIC 25063281\n"
     ]
    },
    {
     "name": "stderr",
     "output_type": "stream",
     "text": [
      "C:\\Users\\User\\AppData\\Local\\Packages\\PythonSoftwareFoundation.Python.3.11_qbz5n2kfra8p0\\LocalCache\\local-packages\\Python311\\site-packages\\lightkurve\\search.py:423: LightkurveWarning: Warning: 33 files available to download. Only the first file has been downloaded. Please use `download_all()` or specify additional criteria (e.g. quarter, campaign, or sector) to limit your search.\n",
      "  warnings.warn(\n"
     ]
    },
    {
     "name": "stdout",
     "output_type": "stream",
     "text": [
      "downloade complete, tpf is now TessTargetPixelFile(TICID: TIC 25063281)\n",
      "INFO: Query finished. [astroquery.utils.tap.core]\n",
      "\n",
      "********** TESS 25063296 – Star Number 0 **********\n"
     ]
    },
    {
     "name": "stderr",
     "output_type": "stream",
     "text": [
      "C:\\Users\\User\\AppData\\Local\\Packages\\PythonSoftwareFoundation.Python.3.11_qbz5n2kfra8p0\\LocalCache\\local-packages\\Python311\\site-packages\\lightkurve\\search.py:423: LightkurveWarning: Warning: 13 files available to download. Only the first file has been downloaded. Please use `download_all()` or specify additional criteria (e.g. quarter, campaign, or sector) to limit your search.\n",
      "  warnings.warn(\n"
     ]
    },
    {
     "name": "stdout",
     "output_type": "stream",
     "text": [
      "tpf is  TessTargetPixelFile(TICID: 25063296)\n",
      "INFO: Query finished. [astroquery.utils.tap.core]\n",
      "\n",
      "********** TESS 25063656 – Star Number 1 **********\n"
     ]
    },
    {
     "name": "stderr",
     "output_type": "stream",
     "text": [
      "C:\\Users\\User\\AppData\\Local\\Packages\\PythonSoftwareFoundation.Python.3.11_qbz5n2kfra8p0\\LocalCache\\local-packages\\Python311\\site-packages\\lightkurve\\search.py:423: LightkurveWarning: Warning: 2 files available to download. Only the first file has been downloaded. Please use `download_all()` or specify additional criteria (e.g. quarter, campaign, or sector) to limit your search.\n",
      "  warnings.warn(\n"
     ]
    },
    {
     "name": "stdout",
     "output_type": "stream",
     "text": [
      "tpf is  TessTargetPixelFile(TICID: 25063656)\n",
      "INFO: Query finished. [astroquery.utils.tap.core]\n",
      "The total time to create these plots is 2.407857596874237 minutes.\n"
     ]
    }
   ],
   "source": [
    "\"\"\"\n",
    "\n",
    "# Creating open lists for collecting data\n",
    "tess_list = []\n",
    "gaia_source_list = []\n",
    "ra_list = []\n",
    "dec_list = []\n",
    "g_mag_list = []\n",
    "ruwe_list = []\n",
    "flux_list = []\n",
    "not_found = []\n",
    "\n",
    "# Starting time counter \n",
    "t0 = time.time()\n",
    "a = 0\n",
    "\n",
    "# Beginning process for i in the list \n",
    "for i in identifiers:\n",
    "   \n",
    "    # Printing explanatory data  \n",
    "    tess = i[4:]\n",
    "    print('\\n********** TESS ' + str(tess) + ' – Star Number ' + str(a) + ' **********') \n",
    "   \n",
    "    # Searching for tpf with lightkurve\n",
    "    tpf = search_targetpixelfile('TIC ' + str(tess), author='SPOC', cadence='short').download()\n",
    "    print(\"tpf is \",tpf)\n",
    "    if tpf ==None:\n",
    "        print(\"downloade started, searching for\")\n",
    "        print('TIC ' + str(tess))\n",
    "        tpf = lightkurve.search_tesscut(i).download()\n",
    "        print(\"downloade complete, tpf is now\",tpf)\n",
    "    tpf_one = tpf[0]\n",
    "    tpf_one.to_fits(plot_path + 'tess_' + str(tess) + '_fits.fits')\n",
    "\n",
    "    # Finding tpa\n",
    "    array = tpf_one.pipeline_mask \n",
    "\n",
    "    # Finding the count of each pixel in the rows and columns of the mask. \n",
    "    row_count = np.count_nonzero(array, axis=1)\n",
    "    col_count = np.count_nonzero(array, axis=0) \n",
    "\n",
    "    # Columns = col are counting the x coordinate from left to right. \n",
    "    # This is the lower limit in pixel number for the left hand side of the array\n",
    "    # By adding 1 to the result I am removing the index to 0.\n",
    "    count_x = 0\n",
    "    if col_count[0] != 0:\n",
    "        count_x = 0\n",
    "    else:\n",
    "        for i in range(len(col_count)):\n",
    "            if col_count[i] == 0:\n",
    "                count_x = i\n",
    "            else:\n",
    "                count_x = count_x + 1\n",
    "                break\n",
    "     \n",
    "    # Rows are counting the y coordinate from bottom to top.\n",
    "    # This is the lower limit in pixel number for the bottom of the array\n",
    "    # By adding 1 to the result I am removing the index to 0.\n",
    "    count_y = 0\n",
    "    if row_count[0] != 0:\n",
    "        count_y = 0\n",
    "    else:\n",
    "        for j in range(len(row_count)):\n",
    "            if row_count[j] == 0:\n",
    "                count_y = j \n",
    "            else:\n",
    "                count_y = count_y + 1\n",
    "                break\n",
    "    \n",
    "    # Finding the top right pixel\n",
    "    array_2  = array[np.ix_(~np.all(array == False, axis=1), ~np.all(array == False, axis=0))]\n",
    "    tr_y = array_2.shape[0]  \n",
    "    tr_x = array_2.shape[1]  \n",
    "\n",
    "    # Top left pixel position \n",
    "    tl_x = count_x - 0.5\n",
    "    tl_y = count_y + tr_y - 1 + 0.5\n",
    "\n",
    "    # Bottom right pixel position \n",
    "    br_x = count_x + tr_x - 1 + 0.5\n",
    "    br_y = count_y - 0.5\n",
    "\n",
    "    # Bottom left pixel position\n",
    "    # Starts from the first pixel with a non-zero value so only include count_x and count_y \n",
    "    bl_x = count_x - 0.5\n",
    "    bl_y = count_y - 0.5\n",
    "\n",
    "    # Top right pixel position\n",
    "    # Already calaculated these so just add the 0.5\n",
    "    tr_x = count_x + tr_x - 1 + 0.5\n",
    "    tr_y = count_y + tr_y - 1 + 0.5 \n",
    "\n",
    "    # Pulling image to plot\n",
    "    tpf_data = fits.open(plot_path + 'tess_' + str(tess) + '_fits.fits')\n",
    "    image = tpf_data[1].data\n",
    "    image = image['FLUX'][0]\n",
    "    wcs = WCS(tpf_data[2].header)\n",
    "\n",
    "    # Finding the corners of the aperture mask\n",
    "    tl = tpf_one.wcs.pixel_to_world(tl_x, tl_y)\n",
    "    tr = tpf_one.wcs.pixel_to_world(tr_x, tr_y)\n",
    "    bl = tpf_one.wcs.pixel_to_world(bl_x, bl_y)\n",
    "    br = tpf_one.wcs.pixel_to_world(br_x, br_y)\n",
    "\n",
    "    # Converting the corners of the aperture mask to coordinates for Gaia\n",
    "    top_left = wcs.world_to_pixel(tl)\n",
    "    top_right = wcs.world_to_pixel(tr)\n",
    "    bottom_left = wcs.world_to_pixel(bl)\n",
    "    bottom_right = wcs.world_to_pixel(br)\n",
    "\n",
    "    # Coordinates to search in Gaia \n",
    "    tr_ra = tr.ra.deg\n",
    "    tr_dec = tr.dec.deg\n",
    "    tl_ra = tl.ra.deg\n",
    "    tl_dec = tl.dec.deg\n",
    "    br_ra = br.ra.deg\n",
    "    br_dec = br.dec.deg\n",
    "    bl_ra = bl.ra.deg\n",
    "    bl_dec = bl.dec.deg\n",
    "\n",
    "    # Creating Gaia call\n",
    "    polygon = str(br_ra) + ', ' + str(br_dec) + ', ' + str(bl_ra) + ', ' + str(bl_dec) + ', ' + str(tl_ra) + ', ' + str(tl_dec) + ', ' + str(tr_ra) + ', ' + str(tr_dec)\n",
    "    columns = 'source_id, ra, dec, phot_g_mean_mag, ruwe, phot_g_mean_flux'\n",
    "    polygon_top10query_base = \"\"\"SELECT\n",
    "    {columns}\n",
    "    FROM gaiaedr3.gaia_source\n",
    "    WHERE 1=CONTAINS(\n",
    "            POINT(ra, dec), \n",
    "            POLYGON({polygon}))\n",
    "    \"\"\"\n",
    "\n",
    "    # Querying Gaia\n",
    "    polygon_top10query = polygon_top10query_base.format(columns=columns, \n",
    "                          polygon=polygon)\n",
    "\n",
    "    polygon_top10query_job = Gaia.launch_job_async(polygon_top10query)\n",
    "\n",
    "    polygon_top10query_results = polygon_top10query_job.get_results()\n",
    "\n",
    "    # Pulling data from Gaia\n",
    "    plot_source = list(polygon_top10query_results['source_id'])\n",
    "    plot_ra = list(polygon_top10query_results['ra'])\n",
    "    plot_dec = list(polygon_top10query_results['dec'])\n",
    "    phot = list(polygon_top10query_results['phot_g_mean_mag'])\n",
    "    ruwe = list(polygon_top10query_results['ruwe']) \n",
    "    flux = list(polygon_top10query_results['phot_g_mean_flux']) \n",
    "\n",
    "    # Initializing lists\n",
    "    plot_source_order = []\n",
    "    plot_ra_order = []\n",
    "    plot_dec_order = []\n",
    "    plot_ruwe_order = []\n",
    "    plot_phot_order = np.sort(phot)\n",
    "    plot_flux_order = []\n",
    "\n",
    "    # Putting the data in the correct order for plotting\n",
    "    for i in range(len(phot)):\n",
    "        if plot_phot_order[i] in phot:\n",
    "            index = phot.index(plot_phot_order[i])\n",
    "            plot_source_order.append(plot_source[index]) \n",
    "            plot_ra_order.append(plot_ra[index])\n",
    "            plot_dec_order.append(plot_dec[index])\n",
    "            plot_ruwe_order.append(ruwe[index]) \n",
    "            plot_flux_order.append(flux[index]) \n",
    "\n",
    "    # Saving final data lists for the output file\n",
    "    tess_list.append(tess)\n",
    "    ra_list.append(plot_ra_order) \n",
    "    dec_list.append(plot_dec_order) \n",
    "    gaia_source_list.append(plot_source_order) \n",
    "    ruwe_list.append(plot_ruwe_order) \n",
    "    flux_list.append(plot_flux_order) \n",
    "\n",
    "    # Removing nans from the photometry\n",
    "    plot_phot_order = [-999 if math.isnan(x) else x for x in plot_phot_order]\n",
    "    g_mag_list.append(plot_phot_order) \n",
    "\n",
    "    # Determining the coordinates of the companions for plotting\n",
    "    companions = SkyCoord(plot_ra_order, plot_dec_order, unit='deg')\n",
    "    companions_to_plot = wcs.world_to_pixel(companions)\n",
    "\n",
    "    # Making beautiful plot! \n",
    "    if len(companions_to_plot[0]) == 0: \n",
    "        not_found.append(tess) \n",
    "    else: \n",
    "\n",
    "        # Setting figure\n",
    "        fig = plt.figure(figsize=(18, 15))\n",
    "        fig.add_subplot(111, projection = wcs) \n",
    "\n",
    "        # Plotting corners and box around TPA \n",
    "        top_line_x = [tl_x, tr_x]\n",
    "        top_line_y = [tl_y, tr_y]\n",
    "        plt.plot(top_line_x, top_line_y, linewidth=3, color='white')\n",
    "        bottom_line_x = [bl_x, br_x]\n",
    "        bottom_line_y = [bl_y, br_y]\n",
    "        plt.plot(bottom_line_x, bottom_line_y, linewidth=3, color='white')\n",
    "        left_line_x = [bl_x, tl_x]\n",
    "        left_line_y = [bl_y, tl_y]\n",
    "        plt.plot(left_line_x, left_line_y, linewidth=3, color='white')\n",
    "        right_line_x = [br_x, tr_x]\n",
    "        right_line_y = [br_y, tr_y]\n",
    "        plt.plot(right_line_x, right_line_y, linewidth=3, color='white')\n",
    "\n",
    "        # Plotting magnitudes \n",
    "        for i in range(len(phot)):\n",
    "            try:\n",
    "                plt.text(companions_to_plot[0][i], companions_to_plot[1][i], str(round(plot_phot_order[i], 3)), color='#dd1c77', fontsize=25)\n",
    "            except:\n",
    "                continue\n",
    "\n",
    "        # Plotting target star and companions\n",
    "        plt.scatter(companions_to_plot[0][1:], companions_to_plot[1][1:], marker='*', s=2000, color='white', edgecolor='black')\n",
    "        plt.scatter(companions_to_plot[0][0], companions_to_plot[1][0], marker='*', s=2000, color='pink', edgecolor='black')\n",
    "        \n",
    "        # Plotting corner text \n",
    "        plt.text(tr_x+0.2, tr_y+0.2, 'RA = ' + str(round(tr.ra.deg, 4)) + '\\nDec = ' + str(round(tr.dec.deg, 4)), fontsize=15, backgroundcolor='white') \n",
    "        plt.text(tl_x-1.8, tl_y+0.2, 'RA = ' + str(round(tl.ra.deg, 4)) + '\\nDec = ' + str(round(tl.dec.deg, 4)), fontsize=15, backgroundcolor='white') \n",
    "        plt.text(br_x+0.2, br_y+0.2, 'RA = ' + str(round(br.ra.deg, 4)) + '\\nDec = ' + str(round(br.dec.deg, 4)), fontsize=15, backgroundcolor='white') \n",
    "        plt.text(bl_x-1.8, bl_y+0.2, 'RA = ' + str(round(bl.ra.deg, 4)) + '\\nDec = ' + str(round(bl.dec.deg, 4)), fontsize=15, backgroundcolor='white') \n",
    "       \n",
    "        # Plotting corners\n",
    "        plt.scatter(tr_x, tr_y, s=200, marker='X', color='white') # Top right\n",
    "        plt.scatter(tl_x, tl_y, s=200, marker='X', color='white') # Top left\n",
    "        plt.scatter(br_x, br_y, s=200, marker='X', color='white') # Bottom right\n",
    "        plt.scatter(bl_x, bl_y, s=200, marker='X', color='white') # Bottom left\n",
    "\n",
    "        # Setting axes for ticks\n",
    "        ax = plt.gca()\n",
    "\n",
    "        # Plotting axes labels, titles, and images\n",
    "        plt.ylabel('DEC [degrees]', fontsize=20)\n",
    "        plt.xlabel('RA [hourangle]', fontsize=20)\n",
    "        plt.imshow(image, origin='lower', cmap='RdPu_r', alpha=1)\n",
    "        plt.imshow(array, origin='lower',  cmap='binary_r', alpha=0.2)\n",
    "        plt.title('TESS ' + str(tess), fontsize=20)\n",
    "\n",
    "        # Setting tick parameters \n",
    "        ax.tick_params(axis='x', labelsize=20)\n",
    "        ax.tick_params(axis='y', labelsize=20)\n",
    "\n",
    "        # Plotting grid and saving the file\n",
    "        plt.grid(axis = 'both', color='grey', ls = ':', linewidth=6)\n",
    "        plt.savefig(plot_path + str(tess) + '.png')\n",
    "        a = a + 1\n",
    "        plt.close()\n",
    "\n",
    "# Timing code \n",
    "t1 = time.time()\n",
    "total = t1 - t0\n",
    "print('The total time to create these plots is ' + str(total/60) + ' minutes.') \n",
    "\n",
    "# Saving data file\n",
    "data = zip(tess_list, ra_list, dec_list, gaia_source_list, g_mag_list, ruwe_list, flux_list) \n",
    "header = ['tess', 'ra', 'dec', 'gaia_source_list', 'g_mag_list', 'ruwe', 'flux']\n",
    "df = pd.DataFrame(data=data, columns=header) \n",
    "df.to_csv(code_file_path + 'fluxct_data.csv', index=False) \n",
    "\"\"\""
   ]
  }
 ],
 "metadata": {
  "kernelspec": {
   "display_name": "Python 3",
   "language": "python",
   "name": "python3"
  },
  "language_info": {
   "codemirror_mode": {
    "name": "ipython",
    "version": 3
   },
   "file_extension": ".py",
   "mimetype": "text/x-python",
   "name": "python",
   "nbconvert_exporter": "python",
   "pygments_lexer": "ipython3",
   "version": "3.11.6"
  }
 },
 "nbformat": 4,
 "nbformat_minor": 2
}
